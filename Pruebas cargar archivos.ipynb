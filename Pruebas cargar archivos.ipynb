{
 "cells": [
  {
   "cell_type": "code",
   "execution_count": 4,
   "metadata": {},
   "outputs": [],
   "source": [
    "import math\n",
    "import csv\n",
    "import numpy as np\n",
    "import pdb\n",
    "import pandas as pd"
   ]
  },
  {
   "cell_type": "code",
   "execution_count": 5,
   "metadata": {},
   "outputs": [],
   "source": [
    "def cargador_archivos_csv():\n",
    "    rutas=[]\n",
    "    año_inicial=int(input(\"año inicial a cargar: \"))\n",
    "    año_final_datos=int(input(\"año final a cargar: \"))\n",
    "    años=año_final_datos-año_inicial\n",
    "    for archivo in range(años+1):\n",
    "        rutas.append(input(\"Introdusca la ruta del archivo csv a cargar\"))\n",
    "    datos= pd.DataFrame()\n",
    "    i=0\n",
    "    for ruta in rutas:\n",
    "        file=pd.read_csv(ruta, encoding=\"iso-8859-1\",skip_blank_lines=True,skiprows=1)\n",
    "        file[\"año\"]=año_inicial+i\n",
    "        datos=datos.merge()\n",
    "        i+=1\n",
    "    return datos\n",
    "        \n",
    "    "
   ]
  },
  {
   "cell_type": "code",
   "execution_count": 61,
   "metadata": {},
   "outputs": [
    {
     "data": {
      "text/html": [
       "<div>\n",
       "<style scoped>\n",
       "    .dataframe tbody tr th:only-of-type {\n",
       "        vertical-align: middle;\n",
       "    }\n",
       "\n",
       "    .dataframe tbody tr th {\n",
       "        vertical-align: top;\n",
       "    }\n",
       "\n",
       "    .dataframe thead th {\n",
       "        text-align: right;\n",
       "    }\n",
       "</style>\n",
       "<table border=\"1\" class=\"dataframe\">\n",
       "  <thead>\n",
       "    <tr style=\"text-align: right;\">\n",
       "      <th></th>\n",
       "      <th>Ramos</th>\n",
       "      <th>Indice</th>\n",
       "      <th>Severidad</th>\n",
       "      <th>Reclamaciones</th>\n",
       "      <th>año</th>\n",
       "    </tr>\n",
       "  </thead>\n",
       "  <tbody>\n",
       "    <tr>\n",
       "      <th>0</th>\n",
       "      <td>Fidelidad</td>\n",
       "      <td>0.54%</td>\n",
       "      <td>0.39%</td>\n",
       "      <td>$8,416,448.00</td>\n",
       "      <td>2009</td>\n",
       "    </tr>\n",
       "    <tr>\n",
       "      <th>1</th>\n",
       "      <td>Individuales</td>\n",
       "      <td>0.71%</td>\n",
       "      <td>0.49%</td>\n",
       "      <td>$6,931,428.00</td>\n",
       "      <td>2009</td>\n",
       "    </tr>\n",
       "    <tr>\n",
       "      <th>2</th>\n",
       "      <td>Colectivo</td>\n",
       "      <td>0.31%</td>\n",
       "      <td>0.21%</td>\n",
       "      <td>$1,850,682.00</td>\n",
       "      <td>2009</td>\n",
       "    </tr>\n",
       "    <tr>\n",
       "      <th>3</th>\n",
       "      <td>Judiciales</td>\n",
       "      <td>0.65%</td>\n",
       "      <td>0.25%</td>\n",
       "      <td>$4,739,977.00</td>\n",
       "      <td>2009</td>\n",
       "    </tr>\n",
       "    <tr>\n",
       "      <th>4</th>\n",
       "      <td>Penales</td>\n",
       "      <td>5.35%</td>\n",
       "      <td>2.04%</td>\n",
       "      <td>$2,313,926.00</td>\n",
       "      <td>2009</td>\n",
       "    </tr>\n",
       "  </tbody>\n",
       "</table>\n",
       "</div>"
      ],
      "text/plain": [
       "          Ramos Indice Severidad  Reclamaciones   año\n",
       "0     Fidelidad  0.54%     0.39%  $8,416,448.00  2009\n",
       "1  Individuales  0.71%     0.49%  $6,931,428.00  2009\n",
       "2     Colectivo  0.31%     0.21%  $1,850,682.00  2009\n",
       "3    Judiciales  0.65%     0.25%  $4,739,977.00  2009\n",
       "4       Penales  5.35%     2.04%  $2,313,926.00  2009"
      ]
     },
     "execution_count": 61,
     "metadata": {},
     "output_type": "execute_result"
    }
   ],
   "source": [
    "datos=pd.DataFrame()\n",
    "file=pd.read_csv(\"Datos_fianzas_2009.csv\", encoding=\"iso-8859-1\",skiprows=1)\n",
    "file[\"año\"]=2009\n",
    "file.head()\n"
   ]
  },
  {
   "cell_type": "code",
   "execution_count": 76,
   "metadata": {},
   "outputs": [
    {
     "name": "stderr",
     "output_type": "stream",
     "text": [
      "C:\\Users\\pavo_\\Anaconda3\\lib\\site-packages\\pandas\\core\\indexing.py:1472: FutureWarning: \n",
      "Passing list-likes to .loc or [] with any missing label will raise\n",
      "KeyError in the future, you can use .reindex() as an alternative.\n",
      "\n",
      "See the documentation here:\n",
      "https://pandas.pydata.org/pandas-docs/stable/indexing.html#deprecate-loc-reindex-listlike\n",
      "  return self._getitem_tuple(key)\n"
     ]
    }
   ],
   "source": [
    "archivos=[\"Datos_fianzas_2010.csv\",\"Datos_fianzas_2011.csv\",\"Datos_fianzas_2012.csv\",\"Datos_fianzas_2013.csv\",\"Datos_fianzas_2014.csv\"]\n",
    "for archivo in archivos:\n",
    "    i=0\n",
    "    file=pd.read_csv(archivo,encoding=\"iso-8859-1\",skiprows=1)\n",
    "    file[\"año\"]=2010+i\n",
    "    i+=1\n",
    "    indices_prev=[file[\"Indice\"]]\n",
    "    indices=[]\n",
    "    for i in range(18):\n",
    "        ind=file.loc[i,\"Indice\"]\n",
    "        ind=ind.replace(\"%\",\"\")\n",
    "        ind=ind.replace(\"-\",\"0\")\n",
    "        indices.append(float(ind))\n",
    "        datos=datos.append(indices)"
   ]
  },
  {
   "cell_type": "code",
   "execution_count": 79,
   "metadata": {},
   "outputs": [
    {
     "data": {
      "text/html": [
       "<div>\n",
       "<style scoped>\n",
       "    .dataframe tbody tr th:only-of-type {\n",
       "        vertical-align: middle;\n",
       "    }\n",
       "\n",
       "    .dataframe tbody tr th {\n",
       "        vertical-align: top;\n",
       "    }\n",
       "\n",
       "    .dataframe thead th {\n",
       "        text-align: right;\n",
       "    }\n",
       "</style>\n",
       "<table border=\"1\" class=\"dataframe\">\n",
       "  <thead>\n",
       "    <tr style=\"text-align: right;\">\n",
       "      <th></th>\n",
       "      <th>2009</th>\n",
       "    </tr>\n",
       "  </thead>\n",
       "  <tbody>\n",
       "    <tr>\n",
       "      <th>Fidelidad</th>\n",
       "      <td>0.74</td>\n",
       "    </tr>\n",
       "    <tr>\n",
       "      <th>Individuales</th>\n",
       "      <td>1.08</td>\n",
       "    </tr>\n",
       "    <tr>\n",
       "      <th>Colectivo</th>\n",
       "      <td>0.48</td>\n",
       "    </tr>\n",
       "    <tr>\n",
       "      <th>Judiciales</th>\n",
       "      <td>0.06</td>\n",
       "    </tr>\n",
       "    <tr>\n",
       "      <th>Penales</th>\n",
       "      <td>0.28</td>\n",
       "    </tr>\n",
       "    <tr>\n",
       "      <th>No Penales</th>\n",
       "      <td>0.03</td>\n",
       "    </tr>\n",
       "    <tr>\n",
       "      <th>Que amparen a los conductores de behículos automotores</th>\n",
       "      <td>0.01</td>\n",
       "    </tr>\n",
       "    <tr>\n",
       "      <th>Administrativas</th>\n",
       "      <td>0.26</td>\n",
       "    </tr>\n",
       "    <tr>\n",
       "      <th>De Obra</th>\n",
       "      <td>0.40</td>\n",
       "    </tr>\n",
       "    <tr>\n",
       "      <th>De proveeduria</th>\n",
       "      <td>0.06</td>\n",
       "    </tr>\n",
       "    <tr>\n",
       "      <th>Fiscales</th>\n",
       "      <td>0.14</td>\n",
       "    </tr>\n",
       "    <tr>\n",
       "      <th>De arrendamiento</th>\n",
       "      <td>0.04</td>\n",
       "    </tr>\n",
       "    <tr>\n",
       "      <th>Otras Fianzas Administrativas</th>\n",
       "      <td>0.03</td>\n",
       "    </tr>\n",
       "    <tr>\n",
       "      <th>Crédito</th>\n",
       "      <td>0.73</td>\n",
       "    </tr>\n",
       "    <tr>\n",
       "      <th>De suministro</th>\n",
       "      <td>0.80</td>\n",
       "    </tr>\n",
       "    <tr>\n",
       "      <th>De compraventa</th>\n",
       "      <td>0.18</td>\n",
       "    </tr>\n",
       "    <tr>\n",
       "      <th>Financieras</th>\n",
       "      <td>0.00</td>\n",
       "    </tr>\n",
       "    <tr>\n",
       "      <th>Otras Fianzas de Credito</th>\n",
       "      <td>0.00</td>\n",
       "    </tr>\n",
       "  </tbody>\n",
       "</table>\n",
       "</div>"
      ],
      "text/plain": [
       "                                                    2009\n",
       "Fidelidad                                           0.74\n",
       "Individuales                                        1.08\n",
       "Colectivo                                           0.48\n",
       "Judiciales                                          0.06\n",
       "Penales                                             0.28\n",
       "No Penales                                          0.03\n",
       "Que amparen a los conductores de behículos auto...  0.01\n",
       "Administrativas                                     0.26\n",
       "De Obra                                             0.40\n",
       "De proveeduria                                      0.06\n",
       "Fiscales                                            0.14\n",
       "De arrendamiento                                    0.04\n",
       "Otras Fianzas Administrativas                       0.03\n",
       "Crédito                                             0.73\n",
       "De suministro                                       0.80\n",
       "De compraventa                                      0.18\n",
       "Financieras                                         0.00\n",
       "Otras Fianzas de Credito                            0.00"
      ]
     },
     "execution_count": 79,
     "metadata": {},
     "output_type": "execute_result"
    }
   ],
   "source": [
    "datos"
   ]
  },
  {
   "cell_type": "code",
   "execution_count": 50,
   "metadata": {},
   "outputs": [
    {
     "data": {
      "text/plain": [
       "18"
      ]
     },
     "execution_count": 50,
     "metadata": {},
     "output_type": "execute_result"
    }
   ],
   "source": [
    "file\n",
    "ramos_final=[]\n",
    "ramos=[file[\"Ramos\"]]\n",
    "indi_2008=[file[\"Indice\"]]\n",
    "indices_2008=[]\n",
    "for i in range(18):\n",
    "    ind=file.loc[i,\"Indice\"]\n",
    "    ind=ind.replace(\"%\",\"\")\n",
    "    ind=ind.replace(\"-\",\"0\")\n",
    "    indices_2008.append(float(ind))\n",
    "previo=ramos.pop()\n",
    "for i in range(18):\n",
    "    ramos_final.append(previo[i])\n",
    "len(ramos_final)"
   ]
  },
  {
   "cell_type": "code",
   "execution_count": 96,
   "metadata": {},
   "outputs": [],
   "source": [
    "file_2008=pd.read_csv(\"Datos_fianzas_2008.csv\", encoding=\"iso-8859-1\",skiprows=1)\n",
    "file_2009=pd.read_csv(\"Datos_fianzas_2009.csv\", encoding=\"iso-8859-1\",skiprows=1)\n",
    "file_2010=pd.read_csv(\"Datos_fianzas_2010.csv\", encoding=\"iso-8859-1\",skiprows=1)\n",
    "file_2011=pd.read_csv(\"Datos_fianzas_2011.csv\", encoding=\"iso-8859-1\",skiprows=1)\n",
    "file_2012=pd.read_csv(\"Datos_fianzas_2012.csv\", encoding=\"iso-8859-1\",skiprows=1)\n",
    "file_2013=pd.read_csv(\"Datos_fianzas_2013.csv\", encoding=\"iso-8859-1\",skiprows=1)\n",
    "file_2014=pd.read_csv(\"Datos_fianzas_2014.csv\", encoding=\"iso-8859-1\",skiprows=1)\n",
    "\n",
    "indi_2008=[file_2008[\"Indice\"]]\n",
    "indices_2008=[]\n",
    "for i in range(18):\n",
    "    ind=file_2008.loc[i,\"Indice\"]\n",
    "    ind=ind.replace(\"%\",\"\")\n",
    "    ind=ind.replace(\"-\",\"0\")\n",
    "    indices_2008.append(float(ind)/100)\n",
    "    \n",
    "indi_2009=[file_2009[\"Indice\"]]\n",
    "indices_2009=[]\n",
    "for i in range(18):\n",
    "    ind=file_2009.loc[i,\"Indice\"]\n",
    "    ind=ind.replace(\"%\",\"\")\n",
    "    ind=ind.replace(\"-\",\"0\")\n",
    "    indices_2009.append(float(ind)/100)\n",
    "\n",
    "indi_2010=[file_2010[\"Indice\"]]\n",
    "indices_2010=[]\n",
    "for i in range(18):\n",
    "    ind=file_2010.loc[i,\"Indice\"]\n",
    "    ind=ind.replace(\"%\",\"\")\n",
    "    ind=ind.replace(\"-\",\"0\")\n",
    "    indices_2010.append(float(ind)/100)\n",
    "    \n",
    "indi_2011=[file_2011[\"Indice\"]]\n",
    "indices_2011=[]\n",
    "for i in range(18):\n",
    "    ind=file_2011.loc[i,\"Indice\"]\n",
    "    ind=ind.replace(\"%\",\"\")\n",
    "    ind=ind.replace(\"-\",\"0\")\n",
    "    indices_2011.append(float(ind)/100)\n",
    "    \n",
    "indi_2012=[file_2012[\"Indice\"]]\n",
    "indices_2012=[]\n",
    "for i in range(18):\n",
    "    ind=file_2012.loc[i,\"Indice\"]\n",
    "    ind=ind.replace(\"%\",\"\")\n",
    "    ind=ind.replace(\"-\",\"0\")\n",
    "    indices_2012.append(float(ind)/100)\n",
    "    \n",
    "indi_2013=[file_2013[\"Indice\"]]\n",
    "indices_2013=[]\n",
    "for i in range(18):\n",
    "    ind=file_2013.loc[i,\"Indice\"]\n",
    "    ind=ind.replace(\"%\",\"\")\n",
    "    ind=ind.replace(\"-\",\"0\")\n",
    "    indices_2013.append(float(ind)/100)\n",
    "    \n",
    "indi_2014=[file_2014[\"Indice\"]]\n",
    "indices_2014=[]\n",
    "for i in range(18):\n",
    "    ind=file_2014.loc[i,\"Indice\"]\n",
    "    ind=ind.replace(\"%\",\"\")\n",
    "    ind=ind.replace(\"-\",\"0\")\n",
    "    indices_2014.append(float(ind)/100)\n"
   ]
  },
  {
   "cell_type": "code",
   "execution_count": 97,
   "metadata": {},
   "outputs": [],
   "source": [
    "datos=pd.DataFrame({\"2008\":indices_2008,\"2009\": indices_2009, \"2010\":indices_2010, \"2011\":indices_2011, \"2012\":indices_2012, \"2013\":indices_2013, \"2014\":indices_2014}, index=ramos_final)"
   ]
  },
  {
   "cell_type": "code",
   "execution_count": 98,
   "metadata": {},
   "outputs": [
    {
     "data": {
      "text/html": [
       "<div>\n",
       "<style scoped>\n",
       "    .dataframe tbody tr th:only-of-type {\n",
       "        vertical-align: middle;\n",
       "    }\n",
       "\n",
       "    .dataframe tbody tr th {\n",
       "        vertical-align: top;\n",
       "    }\n",
       "\n",
       "    .dataframe thead th {\n",
       "        text-align: right;\n",
       "    }\n",
       "</style>\n",
       "<table border=\"1\" class=\"dataframe\">\n",
       "  <thead>\n",
       "    <tr style=\"text-align: right;\">\n",
       "      <th></th>\n",
       "      <th>2008</th>\n",
       "      <th>2009</th>\n",
       "      <th>2010</th>\n",
       "      <th>2011</th>\n",
       "      <th>2012</th>\n",
       "      <th>2013</th>\n",
       "      <th>2014</th>\n",
       "    </tr>\n",
       "  </thead>\n",
       "  <tbody>\n",
       "    <tr>\n",
       "      <th>Fidelidad</th>\n",
       "      <td>0.0057</td>\n",
       "      <td>0.0054</td>\n",
       "      <td>0.0049</td>\n",
       "      <td>0.0042</td>\n",
       "      <td>0.0044</td>\n",
       "      <td>0.0053</td>\n",
       "      <td>0.0074</td>\n",
       "    </tr>\n",
       "    <tr>\n",
       "      <th>Individuales</th>\n",
       "      <td>0.0073</td>\n",
       "      <td>0.0071</td>\n",
       "      <td>0.0065</td>\n",
       "      <td>0.0055</td>\n",
       "      <td>0.0057</td>\n",
       "      <td>0.0080</td>\n",
       "      <td>0.0108</td>\n",
       "    </tr>\n",
       "    <tr>\n",
       "      <th>Colectivo</th>\n",
       "      <td>0.0028</td>\n",
       "      <td>0.0031</td>\n",
       "      <td>0.0034</td>\n",
       "      <td>0.0035</td>\n",
       "      <td>0.0037</td>\n",
       "      <td>0.0036</td>\n",
       "      <td>0.0048</td>\n",
       "    </tr>\n",
       "    <tr>\n",
       "      <th>Judiciales</th>\n",
       "      <td>0.0064</td>\n",
       "      <td>0.0065</td>\n",
       "      <td>0.0011</td>\n",
       "      <td>0.0008</td>\n",
       "      <td>0.0006</td>\n",
       "      <td>0.0006</td>\n",
       "      <td>0.0006</td>\n",
       "    </tr>\n",
       "    <tr>\n",
       "      <th>Penales</th>\n",
       "      <td>0.1231</td>\n",
       "      <td>0.0535</td>\n",
       "      <td>0.0073</td>\n",
       "      <td>0.0054</td>\n",
       "      <td>0.0033</td>\n",
       "      <td>0.0033</td>\n",
       "      <td>0.0028</td>\n",
       "    </tr>\n",
       "  </tbody>\n",
       "</table>\n",
       "</div>"
      ],
      "text/plain": [
       "                2008    2009    2010    2011    2012    2013    2014\n",
       "Fidelidad     0.0057  0.0054  0.0049  0.0042  0.0044  0.0053  0.0074\n",
       "Individuales  0.0073  0.0071  0.0065  0.0055  0.0057  0.0080  0.0108\n",
       "Colectivo     0.0028  0.0031  0.0034  0.0035  0.0037  0.0036  0.0048\n",
       "Judiciales    0.0064  0.0065  0.0011  0.0008  0.0006  0.0006  0.0006\n",
       "Penales       0.1231  0.0535  0.0073  0.0054  0.0033  0.0033  0.0028"
      ]
     },
     "execution_count": 98,
     "metadata": {},
     "output_type": "execute_result"
    }
   ],
   "source": [
    "datos.head() #crear csv con estos datos\n",
    "#jugar con los datos para años futuros hasta el 2018"
   ]
  },
  {
   "cell_type": "code",
   "execution_count": 82,
   "metadata": {},
   "outputs": [
    {
     "data": {
      "text/plain": [
       "[0     0.54%\n",
       " 1     0.71%\n",
       " 2     0.31%\n",
       " 3     0.65%\n",
       " 4     5.35%\n",
       " 5     0.10%\n",
       " 6         -\n",
       " 7     0.08%\n",
       " 8     0.04%\n",
       " 9     0.13%\n",
       " 10    0.30%\n",
       " 11    0.39%\n",
       " 12    0.86%\n",
       " 13    1.37%\n",
       " 14    1.40%\n",
       " 15    3.72%\n",
       " 16        -\n",
       " 17        -\n",
       " Name: Indice, dtype: object]"
      ]
     },
     "execution_count": 82,
     "metadata": {},
     "output_type": "execute_result"
    }
   ],
   "source": [
    "indices_2008"
   ]
  },
  {
   "cell_type": "code",
   "execution_count": 19,
   "metadata": {},
   "outputs": [
    {
     "data": {
      "text/plain": [
       "list"
      ]
     },
     "execution_count": 19,
     "metadata": {},
     "output_type": "execute_result"
    }
   ],
   "source": [
    "file.head()\n"
   ]
  },
  {
   "cell_type": "code",
   "execution_count": null,
   "metadata": {},
   "outputs": [],
   "source": [
    "datos=datos.drop(\"Severidad\", axis=1)\n",
    "datos=datos.drop(\"Reclamaciones\", axis=1)\n"
   ]
  },
  {
   "cell_type": "code",
   "execution_count": null,
   "metadata": {},
   "outputs": [],
   "source": [
    "ind=datos.loc[0,\"Indice\"]\n",
    "ind=ind.replace(\"%\",\"\")\n",
    "ind=float(ind)"
   ]
  },
  {
   "cell_type": "code",
   "execution_count": null,
   "metadata": {},
   "outputs": [],
   "source": [
    "cargador_archivos_csv()"
   ]
  },
  {
   "cell_type": "code",
   "execution_count": null,
   "metadata": {},
   "outputs": [],
   "source": [
    "rutas=[]\n",
    "año_inicial=int(input(\"año inicial a cargar: \"))\n",
    "año_final_datos=int(input(\"año final a cargar: \"))\n",
    "años=año_final_datos-año_inicial\n",
    "for archivo in range(años+1):\n",
    "    rutas.append(input(\"Introdusca la ruta del archivo csv a cargar \"))\n",
    "    datos= pd.DataFrame()\n",
    "rutas\n",
    "i=0\n",
    "for ruta in rutas:\n",
    "    file=pd.read_csv(ruta, encoding=\"iso-8859-1\",skiprows=1)\n",
    "    file[\"año\"]=año_inicial+i\n",
    "    datos=datos.append(file)\n",
    "    i+=1"
   ]
  },
  {
   "cell_type": "code",
   "execution_count": null,
   "metadata": {},
   "outputs": [],
   "source": [
    "file=pd.read_csv(\"Datos_fianzas_2008\", encoding=\"iso-8859-1\",skiprows=1)"
   ]
  },
  {
   "cell_type": "code",
   "execution_count": null,
   "metadata": {},
   "outputs": [],
   "source": [
    "datos.replace"
   ]
  },
  {
   "cell_type": "code",
   "execution_count": null,
   "metadata": {},
   "outputs": [],
   "source": [
    "datos.select(año)"
   ]
  },
  {
   "cell_type": "code",
   "execution_count": null,
   "metadata": {},
   "outputs": [],
   "source": [
    "f1=pd.read_csv(\"Datos_fianzas_2010.csv\", encoding=\"iso-8859-1\", skiprows=2)\n",
    "f1.head()\n"
   ]
  }
 ],
 "metadata": {
  "kernelspec": {
   "display_name": "Python 3",
   "language": "python",
   "name": "python3"
  },
  "language_info": {
   "codemirror_mode": {
    "name": "ipython",
    "version": 3
   },
   "file_extension": ".py",
   "mimetype": "text/x-python",
   "name": "python",
   "nbconvert_exporter": "python",
   "pygments_lexer": "ipython3",
   "version": "3.6.5"
  }
 },
 "nbformat": 4,
 "nbformat_minor": 2
}
