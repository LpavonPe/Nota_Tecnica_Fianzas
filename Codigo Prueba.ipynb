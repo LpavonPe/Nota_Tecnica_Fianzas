{
 "cells": [
  {
   "cell_type": "code",
   "execution_count": 1,
   "metadata": {},
   "outputs": [],
   "source": [
    "import math\n",
    "import csv\n",
    "import numpy as np\n",
    "import pdb\n",
    "import pandas as pd\n"
   ]
  },
  {
   "cell_type": "code",
   "execution_count": null,
   "metadata": {},
   "outputs": [],
   "source": [
    "def Nota_tec():\n",
    "    x =0\n",
    "    y =0\n",
    "    while x== 0: \n",
    "        x = input(\"Desea realizar una Nota tecnica(N) o solo obtener los calculos de la misma(C)?\")\n",
    "        if x == \"N\" or \"n\":\n",
    "            while datos_nuevos ==0:\n",
    "                datos_nuevos= input(\"Desea introducir nuevos datos estadisticos(N) o trabajar con los actuales(A)?\")\n",
    "                if datos_nuevos == \"N\" or \"n\":\n",
    "                    pass\n",
    "                elif datos_nuevos == \"A\" or \"a\":\n",
    "                    pass\n",
    "                elif datos_nuevos == \"I\" or \"i\":\n",
    "                    pass\n",
    "                else:\n",
    "                    datos_nuevos =0\n",
    "                    print(\"Selección no reconocida, por favor ingrese N para trabajar con nuevos datos, A para trabajar con los datos actuales o I para obtener información sobre los datos actuales\")\n",
    "        elif x == \"C\" or \"c\":\n",
    "            pass\n",
    "        else:\n",
    "            x=0\n",
    "            print(\"Selección no reconocida, por favor ingrese N para nota tecnica o C para realizar los calculos\")"
   ]
  },
  {
   "cell_type": "code",
   "execution_count": null,
   "metadata": {},
   "outputs": [],
   "source": [
    "def calculos(Ind,Ma,gadmi =.1, gadmi_min= 1000,gadq=.15, gadq_min=1500, mutil=.1,mutil_min=1000):\n",
    "    Indice_de_reclamaciones =Ind\n",
    "    MAS= Ma\n",
    "    Prima_Base = Indice_de_reclamaciones * MAS\n",
    "    G_Admin = gadmin if (gadmin*Prima_Base) > gadmin_min else gadmin_min\n",
    "    gadmin=gadmi \n",
    "    gadmin_min = gadmi_min\n",
    "    G_Adq = gadq2 if (gadq2*Prima_Base) > gadq2_min else gadq2_min\n",
    "    gadq2=gadq\n",
    "    gadq2_min =gadq_min\n",
    "    M_util =mutil2 if (mutil2*Prima_Base)> mutil2_min else mutil2_min\n",
    "    mutil2= mutil\n",
    "    mutil2_min =mutil_min\n",
    "    Prima_Tarifa = if G_Admin == gadmin and G_Adq == gadq2 and  M_util == mutil2 Prima_Base/(1-G_Admin-G_Adq-M_util) else: Prima_Base+G_Admin+G_Adq+M_util\n"
   ]
  },
  {
   "cell_type": "code",
   "execution_count": null,
   "metadata": {},
   "outputs": [],
   "source": [
    "Nota_tec()"
   ]
  },
  {
   "cell_type": "code",
   "execution_count": 6,
   "metadata": {},
   "outputs": [],
   "source": [
    "datos_2008 = pd.read_csv(\"Datos _fianzas_2008.csv\", encoding=\"iso-8859-1\")"
   ]
  },
  {
   "cell_type": "code",
   "execution_count": 5,
   "metadata": {},
   "outputs": [
    {
     "data": {
      "text/html": [
       "<div>\n",
       "<style scoped>\n",
       "    .dataframe tbody tr th:only-of-type {\n",
       "        vertical-align: middle;\n",
       "    }\n",
       "\n",
       "    .dataframe tbody tr th {\n",
       "        vertical-align: top;\n",
       "    }\n",
       "\n",
       "    .dataframe thead th {\n",
       "        text-align: right;\n",
       "    }\n",
       "</style>\n",
       "<table border=\"1\" class=\"dataframe\">\n",
       "  <thead>\n",
       "    <tr style=\"text-align: right;\">\n",
       "      <th></th>\n",
       "      <th>Ramos y Subramos</th>\n",
       "      <th>Indice de Reclamaciones pagadas esperadas (w)</th>\n",
       "      <th>Indice de severidad promedio</th>\n",
       "      <th>Monto de reclamaciones pagadas esperadas</th>\n",
       "    </tr>\n",
       "  </thead>\n",
       "  <tbody>\n",
       "    <tr>\n",
       "      <th>0</th>\n",
       "      <td>Fidelidad</td>\n",
       "      <td>0.57%</td>\n",
       "      <td>0.20%</td>\n",
       "      <td>$5,614,585.00</td>\n",
       "    </tr>\n",
       "    <tr>\n",
       "      <th>1</th>\n",
       "      <td>Individuales</td>\n",
       "      <td>0.73%</td>\n",
       "      <td>0.25%</td>\n",
       "      <td>$4,823,022.00</td>\n",
       "    </tr>\n",
       "    <tr>\n",
       "      <th>2</th>\n",
       "      <td>Colectivo</td>\n",
       "      <td>0.28%</td>\n",
       "      <td>0.09%</td>\n",
       "      <td>$921,247.00</td>\n",
       "    </tr>\n",
       "    <tr>\n",
       "      <th>3</th>\n",
       "      <td>Judiciales</td>\n",
       "      <td>0.64%</td>\n",
       "      <td>0.45%</td>\n",
       "      <td>$4,674,585.00</td>\n",
       "    </tr>\n",
       "    <tr>\n",
       "      <th>4</th>\n",
       "      <td>Penales</td>\n",
       "      <td>12.31%</td>\n",
       "      <td>5.81%</td>\n",
       "      <td>$10,824,022.00</td>\n",
       "    </tr>\n",
       "  </tbody>\n",
       "</table>\n",
       "</div>"
      ],
      "text/plain": [
       "  Ramos y Subramos Indice de Reclamaciones pagadas esperadas (w)  \\\n",
       "0        Fidelidad                                         0.57%   \n",
       "1     Individuales                                         0.73%   \n",
       "2        Colectivo                                         0.28%   \n",
       "3       Judiciales                                         0.64%   \n",
       "4          Penales                                        12.31%   \n",
       "\n",
       "  Indice de severidad promedio Monto de reclamaciones pagadas esperadas  \n",
       "0                        0.20%                            $5,614,585.00  \n",
       "1                        0.25%                            $4,823,022.00  \n",
       "2                        0.09%                              $921,247.00  \n",
       "3                        0.45%                            $4,674,585.00  \n",
       "4                        5.81%                           $10,824,022.00  "
      ]
     },
     "execution_count": 5,
     "metadata": {},
     "output_type": "execute_result"
    }
   ],
   "source": [
    "df.head()"
   ]
  },
  {
   "cell_type": "code",
   "execution_count": null,
   "metadata": {},
   "outputs": [],
   "source": [
    "Indice_de_reclamaciones =0\n",
    "MAS= 1\n",
    "Prima_Base = Indice_de_reclamaciones * MAS\n",
    "G_Admin = gadmin if (gadmin*Prima_Base) > gadmin_min else gadmin_min\n",
    "gadmin= .1\n",
    "gadmin_min = 1000\n",
    "G_Adq = gadq if (gadq*Prima_Base) > gadq_min else gadq_min\n",
    "gadq=.15\n",
    "gadq_min =1500\n",
    "M_util =mutil if (mutil*Prima_Base)> mutil_min else mutil_min\n",
    "mutil=.1\n",
    "mutil_min =1000\n",
    "Prima_Tarifa = if G_Admin == gadmin and G_Adq == gadq and  M_util == mutil Prima_Base/(1-G_Admin-G_Adq-M_util) else: Prima_Base+G_Admin+G_Adq+M_util\n",
    "\n",
    "\n"
   ]
  },
  {
   "cell_type": "code",
   "execution_count": 45,
   "metadata": {
    "scrolled": true
   },
   "outputs": [
    {
     "name": "stdout",
     "output_type": "stream",
     "text": [
      "['Ramos y Subramos', 'Indice de Reclamaciones pagadas esperadas (w)', 'Indice de severidad promedio', 'Monto de reclamaciones pagadas esperadas']\n",
      "['Fidelidad', '0.57%', '0.20%', '$5,614,585.00']\n",
      "['Individuales', '0.73%', '0.25%', '$4,823,022.00']\n",
      "['Colectivo', '0.28%', '0.09%', '$921,247.00']\n",
      "['Judiciales', '0.64%', '0.45%', '$4,674,585.00']\n",
      "['Penales', '12.31%', '5.81%', '$10,824,022.00']\n",
      "['No Penales', '0.10%', '0.06%', '$602,875.00']\n",
      "['Que amparen a los conductores de vehículos automotores', '-', '-', ' - ']\n",
      "['Administrativas', '0.06%', '0.04%', '$38,485,408.00']\n",
      "['De Obra', '0.05%', '0.03%', '$19,415,896.00']\n",
      "['De proveeduria', '0.09%', '0.04%', '$17,979,181.00']\n",
      "['Fiscales', '0.31%', '0.18%', '$6,628.16']\n",
      "['De arrendamiento', '0.25%', '0.06%', '$842,057.00']\n",
      "['Otras Fianzas Administrativas', '0.05%', '0.02%', '$848,547.00']\n",
      "['Crédito', '1.07%', '0.40%', '$8,133,415.00']\n",
      "['De suministro', '1.07%', '0.37%', '$7,780,544.00']\n",
      "['De compraventa', '3.55%', '1.68%', '$1,019,306.00']\n",
      "['Financieras', '-', '-', ' - ']\n",
      "['Otras Fianzas de Credito', '-', '-', ' - ']\n"
     ]
    }
   ],
   "source": [
    "with open(\"Datos _fianzas_2008.csv\", newline='') as f:\n",
    "    reader = csv.reader(f)\n",
    "\n",
    "    for row in reader:\n",
    "        print(row)"
   ]
  },
  {
   "cell_type": "code",
   "execution_count": 103,
   "metadata": {},
   "outputs": [
    {
     "ename": "KeyError",
     "evalue": "'Fidelidad'",
     "output_type": "error",
     "traceback": [
      "\u001b[1;31m---------------------------------------------------------------------------\u001b[0m",
      "\u001b[1;31mKeyError\u001b[0m                                  Traceback (most recent call last)",
      "\u001b[1;32m<ipython-input-103-cbff0aaa0a7a>\u001b[0m in \u001b[0;36m<module>\u001b[1;34m()\u001b[0m\n\u001b[0;32m     13\u001b[0m     \u001b[1;32mfor\u001b[0m \u001b[0mi\u001b[0m \u001b[1;32min\u001b[0m \u001b[0mRamos\u001b[0m\u001b[1;33m:\u001b[0m\u001b[1;33m\u001b[0m\u001b[0m\n\u001b[0;32m     14\u001b[0m         \u001b[1;32mfor\u001b[0m \u001b[0mcol\u001b[0m \u001b[1;32min\u001b[0m \u001b[0mrange\u001b[0m\u001b[1;33m(\u001b[0m\u001b[0mlen\u001b[0m\u001b[1;33m(\u001b[0m\u001b[0mColumnas\u001b[0m\u001b[1;33m)\u001b[0m\u001b[1;33m)\u001b[0m\u001b[1;33m:\u001b[0m\u001b[1;33m\u001b[0m\u001b[0m\n\u001b[1;32m---> 15\u001b[1;33m             \u001b[0mdatos\u001b[0m\u001b[1;33m[\u001b[0m\u001b[0mi\u001b[0m\u001b[1;33m]\u001b[0m\u001b[1;33m[\u001b[0m\u001b[0mColumnas\u001b[0m\u001b[1;33m[\u001b[0m\u001b[0mcol\u001b[0m\u001b[1;33m]\u001b[0m\u001b[1;33m]\u001b[0m\u001b[1;33m=\u001b[0m\u001b[1;33m{\u001b[0m\u001b[1;33m}\u001b[0m\u001b[1;33m\u001b[0m\u001b[0m\n\u001b[0m\u001b[0;32m     16\u001b[0m \u001b[1;33m\u001b[0m\u001b[0m\n\u001b[0;32m     17\u001b[0m     \u001b[0mprint\u001b[0m\u001b[1;33m(\u001b[0m\u001b[0mdatos\u001b[0m\u001b[1;33m)\u001b[0m\u001b[1;33m\u001b[0m\u001b[0m\n",
      "\u001b[1;31mKeyError\u001b[0m: 'Fidelidad'"
     ]
    }
   ],
   "source": [
    "with open(\"Datos _fianzas_2008.csv\", newline='') as f:\n",
    "    reader = csv.reader(f)\n",
    "    n_row=0\n",
    "    datos={}\n",
    "    Ramos=[]\n",
    "    Columnas =[\"Indice de Reclamaciones pagadas esperadas (w)\", \"Indice de severidad promedio\", \"Monto de reclamaciones pagadas esperadas\"]\n",
    "    for row in reader: \n",
    "        Ramos.append(row[0])\n",
    "    Ramos.pop(0)\n",
    "    #for row in reader:\n",
    "        #for i in row:\n",
    "            #Columnas.append(row[i])\n",
    "    for i in Ramos:\n",
    "        datos[i]={}\n",
    "    "
   ]
  },
  {
   "cell_type": "code",
   "execution_count": 97,
   "metadata": {},
   "outputs": [
    {
     "data": {
      "text/plain": [
       "[]"
      ]
     },
     "execution_count": 97,
     "metadata": {},
     "output_type": "execute_result"
    }
   ],
   "source": [
    "Columnas\n",
    "\n"
   ]
  }
 ],
 "metadata": {
  "kernelspec": {
   "display_name": "Python 3",
   "language": "python",
   "name": "python3"
  },
  "language_info": {
   "codemirror_mode": {
    "name": "ipython",
    "version": 3
   },
   "file_extension": ".py",
   "mimetype": "text/x-python",
   "name": "python",
   "nbconvert_exporter": "python",
   "pygments_lexer": "ipython3",
   "version": "3.6.5"
  }
 },
 "nbformat": 4,
 "nbformat_minor": 2
}
