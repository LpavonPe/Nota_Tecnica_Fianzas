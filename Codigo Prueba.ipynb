{
 "cells": [
  {
   "cell_type": "code",
   "execution_count": 2,
   "metadata": {},
   "outputs": [],
   "source": [
    "import math\n",
    "import csv\n",
    "import numpy as np\n",
    "import pdb\n",
    "import pandas as pd\n"
   ]
  },
  {
   "cell_type": "code",
   "execution_count": 17,
   "metadata": {},
   "outputs": [],
   "source": [
    "def intentos(pregunta,opcion1,opcino2):\n",
    "    contador =0\n",
    "    tope=4\n",
    "    valido=8\n",
    "    while contador <tope:\n",
    "        variable=input(pregunta).upper()\n",
    "        if variable !=opcion1 and variable!=opcino2:\n",
    "            print(\"Opción invalida\")\n",
    "            contador +=1\n",
    "        else:\n",
    "            contador=8\n",
    "    if contador ==8:\n",
    "        return variable\n",
    "    else:\n",
    "        raise ValueError(\"Opción invalida, número de intentos excedidos\")\n",
    "    \n",
    "        "
   ]
  },
  {
   "cell_type": "code",
   "execution_count": 39,
   "metadata": {},
   "outputs": [],
   "source": [
    "def inputs():\n",
    "    tipo_usuario=intentos(\"Usuario final(U) o prestador de servicio(S)?\",\"U\",\"S\")\n",
    "    if tipo_usuario ==\"U\":\n",
    "        x=\"C\"\n",
    "    elif tipo_usuario ==\"S\":\n",
    "        x= intentos(\"Desea realizar una Nota tecnica(N) u obtener los cálculos(C)?\",\"N\",\"C\")\n",
    "    if x == \"N\":\n",
    "        datos_nuevos=intentos(\"Desea introducir nuevos datos(N) o trabajar con los actuales(A)?\",\"N\",\"A\")\n",
    "    unica = intentos(\"Su poliza es para un solo ramo(S) o un podructo mixto(M)\",\"S\",\"M\")\n",
    "    ramos=[]\n",
    "    if unica == \"S\":\n",
    "        ramos.append(input(\"para que ramo es su poliza? (ver opciones disponibles con R)\"))\n",
    "    elif unica ==\"M\":\n",
    "        i=0\n",
    "        n_ramos= int(input(\"Cuantos ramos tiene su poliza?\"))\n",
    "        for ramo in range(n_ramos +1):\n",
    "            i+=1\n",
    "            ramos.append(input(f\"Cuales es el ramo {i}\"))\n",
    "    elif unica== \"R\" or \"r\":\n",
    "        datos_maestros[\"Ramos y Subramos\"]\n",
    "    MA=int(input(\"Cual es el monto afianzado?\"))\n",
    "    año_inicial= int(input(\"Cual es el primer año para el cual desea cargar los datos?\"))\n",
    "    año_final= int(input(\"Hasta que año desea que incluyan sus calculos\"))\n",
    "    año_final_datos= int(input(\"Cual es el ultimo año para el cual desea cargar los datos?\"))\n",
    "    diferencia = año_final-año_final_datos ##\n",
    "    if diferencia != 0:\n",
    "        estimar= intentos(f\"Desea estimar datos para los {diferencia} años faltantes?(S/N)\",\"S\",\"N\")\n",
    "        if estimar == \"S\":\n",
    "            método_de_estimación= input(\"Mediante que metodo desea estimar los datos, estandar(E), Incremento lineal(L)o Incremento algebracico(A) ?\").upper() \n",
    "            if método_de_estimación ==\"I\":\n",
    "                incremento= input(\"Desea conservar la tendencia del incremento en los datos(C) o introducir un incremento(I)?\").upper()\n",
    "                if incremento == \"I\":\n",
    "                    incremento=int(input(\"introduzca incremento en porcentaje\"))\n",
    "            if método_de_estimación ==\"A\":\n",
    "                tasa =int(input(\"A qué tasa desea que incrementen sus indicadores?\"))\n",
    "    años = año_final-año_inicial ## pensar si este for esta bien\n",
    "    archivos=[]\n",
    "    for año in range(años+1):\n",
    "        i=0\n",
    "        archivos.append(input(f\"Introdusca la ruta del archivo correspondiente al año {año_inicial +i}\"))\n",
    "        i+=1\n",
    "    return \"funcionan los inputs\"\n",
    "    \n",
    "    \n",
    "    \n",
    "        \n",
    "    "
   ]
  },
  {
   "cell_type": "code",
   "execution_count": null,
   "metadata": {},
   "outputs": [],
   "source": []
  },
  {
   "cell_type": "code",
   "execution_count": 40,
   "metadata": {},
   "outputs": [],
   "source": [
    "def Nota_tec():\n",
    "    inputs()\n",
    "    x =0\n",
    "    y =0\n",
    "    contador=0\n",
    "    contador_max=5\n",
    "    tipo_usuario=0\n",
    "    datos_nuevos=0\n",
    "    datos_maestros = pd.DataFrame()\n",
    "    datos_años= pd.DataFrame()\n",
    "    while x== 0:\n",
    "        while contador<contador_max:\n",
    "            while tipo_usuario== 0: #Meter un interruptor para este while\n",
    "                tipo_usuario=input(\"Usuario final(U) o prestador de servicio(S)?\").upper()\n",
    "                if tipo_usuario == \"U\":\n",
    "                    x=\"C\"\n",
    "                elif tipo_usuario == \"S\":\n",
    "                    x = input(\"Desea realizar una Nota tecnica(N) o solo obtener los calculos de la misma(C)?\").upper()\n",
    "                else:\n",
    "                    print(\"Selección no reconocida\")\n",
    "                    tipo_usuario =0\n",
    "            if x == \"N\":\n",
    "                while datos_nuevos ==0:\n",
    "                    datos_nuevos= input(\"Desea introducir nuevos datos estadisticos(N) o trabajar con los actuales(A)?\").upper()\n",
    "                    if datos_nuevos == \"N\":\n",
    "                        unica= input(\"Su poliza es para un solo ramo(S) o un podructo mixto(M)\").upper()\n",
    "                        ramos=[]\n",
    "                        if unica == \"S\":\n",
    "                            ramos.append(input(\"para que ramo es su poliza? (ver opciones disponibles con R)\"))\n",
    "                        elif unica ==\"M\":\n",
    "                            i=0\n",
    "                            n_ramos= int(input(\"Cuantos ramos tiene su poliza?\"))\n",
    "                            for ramo in range(n_ramos +1):\n",
    "                                i+=1\n",
    "                                ramos.append(input(f\"Cuales es el ramo {i}\"))\n",
    "                        elif unica== \"R\" or \"r\":\n",
    "                            datos_maestros[\"Ramos y Subramos\"]\n",
    "                            pass\n",
    "                        MA=int(input(\"Cual es el monto afianzado?\"))\n",
    "                        print(\"los datos deben de estar en formato csv para poder ser cargados correctamente\")\n",
    "                        año_inicial= int(input(\"Cual es el primer año para el cual desea cargar los datos?\"))\n",
    "                        año_final= int(input(\"Hasta que año desea que incluyan sus calculos\"))\n",
    "                        año_final_datos= int(input(\"Cual es el ultimo año para el cual desea cargar los datos?\"))\n",
    "                        diferencia = año_final-año_final_datos\n",
    "                        if diferencia != 0:\n",
    "                            estimar= input(f\"Desea estimar datos para los {diferencia} años faltantes?(S/N)\").upper()\n",
    "                            if estimar == \"S\":\n",
    "                                años_datos = año_final_datos-año_inicial\n",
    "                                archivos=[]\n",
    "                                años = año_final_datos-año_inicial\n",
    "                                metodo_de_estimación= input(\"Mediante que metodo desea estimar los datos, estandar(E), Incremento lineal(L)o Incremento algebracico(A) ?\").upper() \n",
    "                        for año in range(años+1):\n",
    "                            i=0\n",
    "                            archivos.append(input(f\"Introdusca la ruta del archivo correspondiente al año {año_inicial +i}\"))\n",
    "                            i+=1\n",
    "                        for archivo in archivos:\n",
    "                            datos_año.append(pd.read_csv(archivo, encoding=\"iso-8859-1\"))\n",
    "                            #Crear df maetro extrallendo datos de los archivos e incluyendo solo los ramos relevantes\n",
    "                        if metodo_de_estimación ==\"E\":\n",
    "                            for año in range(diferencia+1):\n",
    "                                #Sacar media de los estimadores de los ramos del df\n",
    "                                #Sacar desviacion estandar\n",
    "                                #meter la media mas dos desviaciones\n",
    "                                pass\n",
    "                            pass\n",
    "                        elif metodo_de_estimación == \"I\":\n",
    "                            incremento= input(\"Desea conservar la tendencia del incremento en los datos(C) o introducir un incremento(I)?\").upper()\n",
    "                            if incremento ==\"C\":\n",
    "                                for año in range(diferencia+1):\n",
    "                                    #calcular incremento de los datos y replicarlo\n",
    "                                    pass\n",
    "                                pass\n",
    "                        elif metodo_de_estimación == \"A\":\n",
    "                            incremento= int(input(\"que porcentaje desea que incrementos los datos anualmente?\"))\n",
    "                            porcentaje = incremento / 100\n",
    "                            #meter los datos estimados en el df\n",
    "                            pass\n",
    "                        elif estimar == \"N\":\n",
    "                                años = año_final_datos-año_inicial #Es necesario?\n",
    "                                archivos=[]\n",
    "                                for año in range(años+1):\n",
    "                                    i=0\n",
    "                                    archivos.append(input(f\"Introdusca la ruta del archivo correspondiente al año {año_inicial +i}\"))\n",
    "                                    i+=1\n",
    "                                #corregir como meter los archivos\n",
    "                                for archivo in archivos:\n",
    "                                    datos_año = pd.read_csv(archivo, encoding=\"iso-8859-1\")\n",
    "                        else:\n",
    "                            pass\n",
    "                            pass\n",
    "                    elif datos_nuevos == \"A\":\n",
    "                        años=[2008,2009,2010,2011,2012,2013,2014]\n",
    "                        estimar_actuales=input(\"Se tienen datos del 2008 al 2014, desea estimar los datos restantes?(S/N)\").upper()\n",
    "                        if estimar_actuales == \"S\":\n",
    "                            metodo_estimacon = input(\"Mediante que metodo desea estimar los datos, estandar(E), Incremento lineal(L)o Incremento algebracico(A) ?\").upper()\n",
    "                            pass\n",
    "                        elif estimar_actuales == \"N\":\n",
    "                            for año in años:\n",
    "                                datos_año = pd.read_csv(f\"Datos _fianzas_{año}.csv\", encoding=\"iso-8859-1\")\n",
    "                        elif datos_nuevos == \"I\":\n",
    "                            print(\"se cuentan con datos de los años 2008 al 2014\")\n",
    "                            datos_2008 = pd.read_csv(\"Datos _fianzas_2008.csv\", encoding=\"iso-8859-1\")\n",
    "                            print(\"los datos cargados tienen esta forma\")\n",
    "                            datos_2008.head()\n",
    "                            datos_nuevos=0\n",
    "                        else:\n",
    "                            datos_nuevos =0\n",
    "                            print(\"Selección no reconocida, por favor ingrese N para trabajar con nuevos datos, A para trabajar con los datos actuales o I para obtener información sobre los datos actuales\")\n",
    "\n",
    "            elif x == \"C\" :\n",
    "                if tipo_usuario == \"S\":\n",
    "                    datos_servicio=input(\"Desea usar los datos actuales(A) o cargar nuevos(N)?\")\n",
    "                    #Meter cargador de nuevos datos\n",
    "                unica= input(\"Su poliza es para un solo ramo(S) o un podructo mixto(M)\").upper()\n",
    "                ramos=[]\n",
    "                if unica == \"S\":\n",
    "                    ramos.append(input(\"para que ramo es su poliza? (ver opciones disponibles con R)\"))\n",
    "                elif unica ==\"M\":\n",
    "                    i=0\n",
    "                    n_ramos= int(input(\"Cuantos ramos tiene su poliza?\"))\n",
    "                    for ramo in range(n_ramos +1):\n",
    "                        i+=1\n",
    "                        ramos.append(input(f\"Cuales es el ramo {i}\"))\n",
    "                elif unica== \"R\" or \"r\":\n",
    "                    #sacar los ramos disponibles en el df\n",
    "                    pass\n",
    "                MA=int(input(\"Cual es el monto afianzado?\"))\n",
    "                #Cargar indice o indices\n",
    "                if tipo_usuario ==\"U\":\n",
    "                    prima_tarifa=calculos(ind,MA)\n",
    "                    guardar =input(\"Desea guardar el monto en un documento(S/N)?\").upper()\n",
    "                    if guardar == \"S\":\n",
    "                        #Crear documento y meter la prima de tarifa\n",
    "                        print(f\"Su prima por un monto asegurado de ${MA} es de {prima_tarifa}, esto representa un {prima_tarifa/MA}% \")\n",
    "            else:\n",
    "                if contador==4:\n",
    "                    x= 5\n",
    "                    #Meter error con numero maximo de intentos\n",
    "                else:\n",
    "                    x=0\n",
    "                tipo_usuario=0\n",
    "                contador+=1\n",
    "                print(\"Selección no reconocida, por favor ingrese N para nota tecnica o C para realizar los calculos\")\n",
    "    return \"Funciona\""
   ]
  },
  {
   "cell_type": "code",
   "execution_count": null,
   "metadata": {},
   "outputs": [],
   "source": []
  },
  {
   "cell_type": "code",
   "execution_count": 24,
   "metadata": {},
   "outputs": [
    {
     "name": "stdout",
     "output_type": "stream",
     "text": [
      "si o noS\n"
     ]
    },
    {
     "data": {
      "text/plain": [
       "'S'"
      ]
     },
     "execution_count": 24,
     "metadata": {},
     "output_type": "execute_result"
    }
   ],
   "source": [
    "a=intentos(\"si o no\",\"S\",\"N\")\n",
    "a"
   ]
  },
  {
   "cell_type": "code",
   "execution_count": 41,
   "metadata": {},
   "outputs": [
    {
     "name": "stdout",
     "output_type": "stream",
     "text": [
      "Usuario final(U) o prestador de servicio(S)?S\n",
      "Desea realizar una Nota tecnica(N) u obtener los cálculos(C)?N\n",
      "Desea introducir nuevos datos(N) o trabajar con los actuales(A)?n\n",
      "Su poliza es para un solo ramo(S) o un podructo mixto(M)s\n",
      "para que ramo es su poliza? (ver opciones disponibles con R)admin\n",
      "Cual es el monto afianzado?100\n",
      "Cual es el primer año para el cual desea cargar los datos?2010\n",
      "Hasta que año desea que incluyan sus calculos2015\n",
      "Cual es el ultimo año para el cual desea cargar los datos?2015\n",
      "Introdusca la ruta del archivo correspondiente al año 2010akaka\n",
      "Introdusca la ruta del archivo correspondiente al año 2010kaka\n",
      "Introdusca la ruta del archivo correspondiente al año 2010kaka\n",
      "Introdusca la ruta del archivo correspondiente al año 2010aka\n",
      "Introdusca la ruta del archivo correspondiente al año 2010kaka\n",
      "Introdusca la ruta del archivo correspondiente al año 2010kaka\n"
     ]
    },
    {
     "ename": "NameError",
     "evalue": "name 'pd' is not defined",
     "output_type": "error",
     "traceback": [
      "\u001b[1;31m---------------------------------------------------------------------------\u001b[0m",
      "\u001b[1;31mNameError\u001b[0m                                 Traceback (most recent call last)",
      "\u001b[1;32m<ipython-input-41-b4ebee3119cf>\u001b[0m in \u001b[0;36m<module>\u001b[1;34m()\u001b[0m\n\u001b[1;32m----> 1\u001b[1;33m \u001b[0mNota_tec\u001b[0m\u001b[1;33m(\u001b[0m\u001b[1;33m)\u001b[0m\u001b[1;33m\u001b[0m\u001b[0m\n\u001b[0m",
      "\u001b[1;32m<ipython-input-40-4e80d9750d38>\u001b[0m in \u001b[0;36mNota_tec\u001b[1;34m()\u001b[0m\n\u001b[0;32m      7\u001b[0m     \u001b[0mtipo_usuario\u001b[0m\u001b[1;33m=\u001b[0m\u001b[1;36m0\u001b[0m\u001b[1;33m\u001b[0m\u001b[0m\n\u001b[0;32m      8\u001b[0m     \u001b[0mdatos_nuevos\u001b[0m\u001b[1;33m=\u001b[0m\u001b[1;36m0\u001b[0m\u001b[1;33m\u001b[0m\u001b[0m\n\u001b[1;32m----> 9\u001b[1;33m     \u001b[0mdatos_maestros\u001b[0m \u001b[1;33m=\u001b[0m \u001b[0mpd\u001b[0m\u001b[1;33m.\u001b[0m\u001b[0mDataFrame\u001b[0m\u001b[1;33m(\u001b[0m\u001b[1;33m)\u001b[0m\u001b[1;33m\u001b[0m\u001b[0m\n\u001b[0m\u001b[0;32m     10\u001b[0m     \u001b[0mdatos_años\u001b[0m\u001b[1;33m=\u001b[0m \u001b[0mpd\u001b[0m\u001b[1;33m.\u001b[0m\u001b[0mDataFrame\u001b[0m\u001b[1;33m(\u001b[0m\u001b[1;33m)\u001b[0m\u001b[1;33m\u001b[0m\u001b[0m\n\u001b[0;32m     11\u001b[0m     \u001b[1;32mwhile\u001b[0m \u001b[0mx\u001b[0m\u001b[1;33m==\u001b[0m \u001b[1;36m0\u001b[0m\u001b[1;33m:\u001b[0m\u001b[1;33m\u001b[0m\u001b[0m\n",
      "\u001b[1;31mNameError\u001b[0m: name 'pd' is not defined"
     ]
    }
   ],
   "source": [
    "Nota_tec()"
   ]
  },
  {
   "cell_type": "code",
   "execution_count": 28,
   "metadata": {},
   "outputs": [],
   "source": [
    "def calculos(Ind,Ma,gadmi =.1, gadmi_min= 1000 ,gadq=.15, gadq_min=1500, mutil=.1,mutil_min=1000):\n",
    "    Prima_Base = Ind*Ma\n",
    "    m_gadmin=0\n",
    "    m_gadq =0\n",
    "    m_uti=0\n",
    "    #Checar porque no esta tomando los montos minimos\n",
    "    if gadmi*Prima_Base > gadmi_min:\n",
    "        m_gadmin= gadmi*Prima_Base\n",
    "    else:\n",
    "        m_gadmi = gadmi_min\n",
    "    if m_gadq*Prima_Base > gadq_min:\n",
    "        m_gadq= m_gadq*Prima_Base\n",
    "    else:\n",
    "        m_gadq=gadq_min\n",
    "    if m_uti*Prima_Base > mutil_min:\n",
    "        m_uti=mutil_min\n",
    "    Prima_Tarifa = Prima_Base + m_gadmin + m_gadq + m_uti\n",
    "    return Prima_Tarifa"
   ]
  },
  {
   "cell_type": "code",
   "execution_count": 31,
   "metadata": {},
   "outputs": [
    {
     "name": "stdout",
     "output_type": "stream",
     "text": [
      "m_gadmin 0\n",
      "m_gadq 1500\n",
      "m_uti 0\n"
     ]
    },
    {
     "data": {
      "text/plain": [
       "11500.0"
      ]
     },
     "execution_count": 31,
     "metadata": {},
     "output_type": "execute_result"
    }
   ],
   "source": [
    "calculos(.01,1000000)"
   ]
  },
  {
   "cell_type": "code",
   "execution_count": 6,
   "metadata": {},
   "outputs": [],
   "source": [
    "datos_2008 = pd.read_csv(\"Datos _fianzas_2008.csv\", encoding=\"iso-8859-1\")"
   ]
  },
  {
   "cell_type": "code",
   "execution_count": 5,
   "metadata": {},
   "outputs": [
    {
     "data": {
      "text/html": [
       "<div>\n",
       "<style scoped>\n",
       "    .dataframe tbody tr th:only-of-type {\n",
       "        vertical-align: middle;\n",
       "    }\n",
       "\n",
       "    .dataframe tbody tr th {\n",
       "        vertical-align: top;\n",
       "    }\n",
       "\n",
       "    .dataframe thead th {\n",
       "        text-align: right;\n",
       "    }\n",
       "</style>\n",
       "<table border=\"1\" class=\"dataframe\">\n",
       "  <thead>\n",
       "    <tr style=\"text-align: right;\">\n",
       "      <th></th>\n",
       "      <th>Ramos y Subramos</th>\n",
       "      <th>Indice de Reclamaciones pagadas esperadas (w)</th>\n",
       "      <th>Indice de severidad promedio</th>\n",
       "      <th>Monto de reclamaciones pagadas esperadas</th>\n",
       "    </tr>\n",
       "  </thead>\n",
       "  <tbody>\n",
       "    <tr>\n",
       "      <th>0</th>\n",
       "      <td>Fidelidad</td>\n",
       "      <td>0.57%</td>\n",
       "      <td>0.20%</td>\n",
       "      <td>$5,614,585.00</td>\n",
       "    </tr>\n",
       "    <tr>\n",
       "      <th>1</th>\n",
       "      <td>Individuales</td>\n",
       "      <td>0.73%</td>\n",
       "      <td>0.25%</td>\n",
       "      <td>$4,823,022.00</td>\n",
       "    </tr>\n",
       "    <tr>\n",
       "      <th>2</th>\n",
       "      <td>Colectivo</td>\n",
       "      <td>0.28%</td>\n",
       "      <td>0.09%</td>\n",
       "      <td>$921,247.00</td>\n",
       "    </tr>\n",
       "    <tr>\n",
       "      <th>3</th>\n",
       "      <td>Judiciales</td>\n",
       "      <td>0.64%</td>\n",
       "      <td>0.45%</td>\n",
       "      <td>$4,674,585.00</td>\n",
       "    </tr>\n",
       "    <tr>\n",
       "      <th>4</th>\n",
       "      <td>Penales</td>\n",
       "      <td>12.31%</td>\n",
       "      <td>5.81%</td>\n",
       "      <td>$10,824,022.00</td>\n",
       "    </tr>\n",
       "  </tbody>\n",
       "</table>\n",
       "</div>"
      ],
      "text/plain": [
       "  Ramos y Subramos Indice de Reclamaciones pagadas esperadas (w)  \\\n",
       "0        Fidelidad                                         0.57%   \n",
       "1     Individuales                                         0.73%   \n",
       "2        Colectivo                                         0.28%   \n",
       "3       Judiciales                                         0.64%   \n",
       "4          Penales                                        12.31%   \n",
       "\n",
       "  Indice de severidad promedio Monto de reclamaciones pagadas esperadas  \n",
       "0                        0.20%                            $5,614,585.00  \n",
       "1                        0.25%                            $4,823,022.00  \n",
       "2                        0.09%                              $921,247.00  \n",
       "3                        0.45%                            $4,674,585.00  \n",
       "4                        5.81%                           $10,824,022.00  "
      ]
     },
     "execution_count": 5,
     "metadata": {},
     "output_type": "execute_result"
    }
   ],
   "source": [
    "df.head()"
   ]
  },
  {
   "cell_type": "code",
   "execution_count": 6,
   "metadata": {},
   "outputs": [
    {
     "name": "stdout",
     "output_type": "stream",
     "text": [
      "meta numero1\n",
      "meta numero2\n",
      "meta numero3\n",
      "meta numero4\n",
      "meta numero5\n",
      "meta numero6\n",
      "meta numero7\n",
      "meta numero8\n",
      "meta numero8\n",
      "meta numero8\n"
     ]
    },
    {
     "data": {
      "text/plain": [
       "['1', '2', '3', '4', '5', '6', '7', '8', '8', '8']"
      ]
     },
     "execution_count": 6,
     "metadata": {},
     "output_type": "execute_result"
    }
   ],
   "source": [
    "lista=[]\n",
    "for año in range(10):\n",
    "    lista.append(input(\"meta numero\"))\n",
    "lista"
   ]
  }
 ],
 "metadata": {
  "kernelspec": {
   "display_name": "Python 3",
   "language": "python",
   "name": "python3"
  },
  "language_info": {
   "codemirror_mode": {
    "name": "ipython",
    "version": 3
   },
   "file_extension": ".py",
   "mimetype": "text/x-python",
   "name": "python",
   "nbconvert_exporter": "python",
   "pygments_lexer": "ipython3",
   "version": "3.6.5"
  }
 },
 "nbformat": 4,
 "nbformat_minor": 2
}
