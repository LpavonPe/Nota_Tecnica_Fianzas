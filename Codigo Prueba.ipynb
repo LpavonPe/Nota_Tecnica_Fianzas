{
 "cells": [
  {
   "cell_type": "code",
   "execution_count": 11,
   "metadata": {},
   "outputs": [],
   "source": [
    "import math\n",
    "import csv\n",
    "import numpy as np\n",
    "import pdb\n"
   ]
  },
  {
   "cell_type": "code",
   "execution_count": 7,
   "metadata": {},
   "outputs": [],
   "source": [
    "def Nota_tec():\n",
    "    x =0\n",
    "    while x== 0: \n",
    "        x = input(\"Desea realizar una Nota tecnica(N) o solo obtener los calculos de la misma(C)?\")\n",
    "        if x == \"N\" or \"n\":\n",
    "            \n",
    "        elif x == \"C\" or \"c\":\n",
    "            pass\n",
    "        else:\n",
    "            x=0\n",
    "            print(\"Selección no reconocida, por favor ingrese N para nota tecnica o C para realizar los calculos\")"
   ]
  },
  {
   "cell_type": "code",
   "execution_count": 10,
   "metadata": {},
   "outputs": [
    {
     "name": "stdout",
     "output_type": "stream",
     "text": [
      "Desea realizar una Nota tecnica(N) o solo obtener los calculos de la misma(C)?n\n"
     ]
    }
   ],
   "source": [
    "Nota_tec()"
   ]
  },
  {
   "cell_type": "code",
   "execution_count": 45,
   "metadata": {},
   "outputs": [
    {
     "name": "stdout",
     "output_type": "stream",
     "text": [
      "['Ramos y Subramos', 'Indice de Reclamaciones pagadas esperadas (w)', 'Indice de severidad promedio', 'Monto de reclamaciones pagadas esperadas']\n",
      "['Fidelidad', '0.57%', '0.20%', '$5,614,585.00']\n",
      "['Individuales', '0.73%', '0.25%', '$4,823,022.00']\n",
      "['Colectivo', '0.28%', '0.09%', '$921,247.00']\n",
      "['Judiciales', '0.64%', '0.45%', '$4,674,585.00']\n",
      "['Penales', '12.31%', '5.81%', '$10,824,022.00']\n",
      "['No Penales', '0.10%', '0.06%', '$602,875.00']\n",
      "['Que amparen a los conductores de vehículos automotores', '-', '-', ' - ']\n",
      "['Administrativas', '0.06%', '0.04%', '$38,485,408.00']\n",
      "['De Obra', '0.05%', '0.03%', '$19,415,896.00']\n",
      "['De proveeduria', '0.09%', '0.04%', '$17,979,181.00']\n",
      "['Fiscales', '0.31%', '0.18%', '$6,628.16']\n",
      "['De arrendamiento', '0.25%', '0.06%', '$842,057.00']\n",
      "['Otras Fianzas Administrativas', '0.05%', '0.02%', '$848,547.00']\n",
      "['Crédito', '1.07%', '0.40%', '$8,133,415.00']\n",
      "['De suministro', '1.07%', '0.37%', '$7,780,544.00']\n",
      "['De compraventa', '3.55%', '1.68%', '$1,019,306.00']\n",
      "['Financieras', '-', '-', ' - ']\n",
      "['Otras Fianzas de Credito', '-', '-', ' - ']\n"
     ]
    }
   ],
   "source": [
    "with open(\"Datos _fianzas_2008.csv\", newline='') as f:\n",
    "    reader = csv.reader(f)\n",
    "\n",
    "    for row in reader:\n",
    "        print(row)"
   ]
  },
  {
   "cell_type": "code",
   "execution_count": 103,
   "metadata": {},
   "outputs": [
    {
     "ename": "KeyError",
     "evalue": "'Fidelidad'",
     "output_type": "error",
     "traceback": [
      "\u001b[1;31m---------------------------------------------------------------------------\u001b[0m",
      "\u001b[1;31mKeyError\u001b[0m                                  Traceback (most recent call last)",
      "\u001b[1;32m<ipython-input-103-cbff0aaa0a7a>\u001b[0m in \u001b[0;36m<module>\u001b[1;34m()\u001b[0m\n\u001b[0;32m     13\u001b[0m     \u001b[1;32mfor\u001b[0m \u001b[0mi\u001b[0m \u001b[1;32min\u001b[0m \u001b[0mRamos\u001b[0m\u001b[1;33m:\u001b[0m\u001b[1;33m\u001b[0m\u001b[0m\n\u001b[0;32m     14\u001b[0m         \u001b[1;32mfor\u001b[0m \u001b[0mcol\u001b[0m \u001b[1;32min\u001b[0m \u001b[0mrange\u001b[0m\u001b[1;33m(\u001b[0m\u001b[0mlen\u001b[0m\u001b[1;33m(\u001b[0m\u001b[0mColumnas\u001b[0m\u001b[1;33m)\u001b[0m\u001b[1;33m)\u001b[0m\u001b[1;33m:\u001b[0m\u001b[1;33m\u001b[0m\u001b[0m\n\u001b[1;32m---> 15\u001b[1;33m             \u001b[0mdatos\u001b[0m\u001b[1;33m[\u001b[0m\u001b[0mi\u001b[0m\u001b[1;33m]\u001b[0m\u001b[1;33m[\u001b[0m\u001b[0mColumnas\u001b[0m\u001b[1;33m[\u001b[0m\u001b[0mcol\u001b[0m\u001b[1;33m]\u001b[0m\u001b[1;33m]\u001b[0m\u001b[1;33m=\u001b[0m\u001b[1;33m{\u001b[0m\u001b[1;33m}\u001b[0m\u001b[1;33m\u001b[0m\u001b[0m\n\u001b[0m\u001b[0;32m     16\u001b[0m \u001b[1;33m\u001b[0m\u001b[0m\n\u001b[0;32m     17\u001b[0m     \u001b[0mprint\u001b[0m\u001b[1;33m(\u001b[0m\u001b[0mdatos\u001b[0m\u001b[1;33m)\u001b[0m\u001b[1;33m\u001b[0m\u001b[0m\n",
      "\u001b[1;31mKeyError\u001b[0m: 'Fidelidad'"
     ]
    }
   ],
   "source": [
    "with open(\"Datos _fianzas_2008.csv\", newline='') as f:\n",
    "    reader = csv.reader(f)\n",
    "    n_row=0\n",
    "    datos={}\n",
    "    Ramos=[]\n",
    "    Columnas =[\"Indice de Reclamaciones pagadas esperadas (w)\", \"Indice de severidad promedio\", \"Monto de reclamaciones pagadas esperadas\"]\n",
    "    for row in reader: \n",
    "        Ramos.append(row[0])\n",
    "    Ramos.pop(0)\n",
    "    #for row in reader:\n",
    "        #for i in row:\n",
    "            #Columnas.append(row[i])\n",
    "    for i in Ramos:\n",
    "        datos[i]={}\n",
    "    "
   ]
  },
  {
   "cell_type": "code",
   "execution_count": 97,
   "metadata": {},
   "outputs": [
    {
     "data": {
      "text/plain": [
       "[]"
      ]
     },
     "execution_count": 97,
     "metadata": {},
     "output_type": "execute_result"
    }
   ],
   "source": [
    "Columnas\n",
    "\n"
   ]
  }
 ],
 "metadata": {
  "kernelspec": {
   "display_name": "Python 3",
   "language": "python",
   "name": "python3"
  },
  "language_info": {
   "codemirror_mode": {
    "name": "ipython",
    "version": 3
   },
   "file_extension": ".py",
   "mimetype": "text/x-python",
   "name": "python",
   "nbconvert_exporter": "python",
   "pygments_lexer": "ipython3",
   "version": "3.6.5"
  }
 },
 "nbformat": 4,
 "nbformat_minor": 2
}
