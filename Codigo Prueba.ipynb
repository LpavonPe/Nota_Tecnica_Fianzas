{
 "cells": [
  {
   "cell_type": "code",
   "execution_count": 2,
   "metadata": {},
   "outputs": [],
   "source": [
    "import math\n",
    "import csv\n",
    "import numpy as np\n",
    "import pdb\n",
    "import pandas as pd\n"
   ]
  },
  {
   "cell_type": "code",
   "execution_count": null,
   "metadata": {},
   "outputs": [],
   "source": [
    "def Nota_tec():\n",
    "    x =0\n",
    "    y =0\n",
    "    tipo_usuario=0\n",
    "    datos_nuevos=0\n",
    "    while x== 0:\n",
    "        while tipo_usuario== 0: #Meter un interruptor para este while\n",
    "            tipo_usuario=input(\"Usuario final(U) o prestador de servicio(S)?\").upper()\n",
    "            if tipo_usuario == \"U\":\n",
    "                x=\"C\"\n",
    "            elif tipo_usuario == \"S\":\n",
    "                x = input(\"Desea realizar una Nota tecnica(N) o solo obtener los calculos de la misma(C)?\").upper()\n",
    "            else:\n",
    "                print(\"Selección no reconocida\")\n",
    "                tipo_usuario =0\n",
    "        if x == \"N\":\n",
    "            while datos_nuevos ==0:\n",
    "                datos_nuevos= input(\"Desea introducir nuevos datos estadisticos(N) o trabajar con los actuales(A)?\").upper()\n",
    "                if datos_nuevos == \"N\":\n",
    "                    unica= input(\"Su poliza es para un solo ramo(S) o un podructo mixto(M)\").upper()\n",
    "                    ramos=[]\n",
    "                    if unica == \"S\":\n",
    "                        ramos.append(input(\"para que ramo es su poliza? (ver opciones disponibles con R)\"))\n",
    "                    elif unica ==\"M\":\n",
    "                        i=0\n",
    "                        n_ramos= int(input(\"Cuantos ramos tiene su poliza?\"))\n",
    "                        for ramo in range(n_ramos +1):\n",
    "                            i+=1\n",
    "                            ramos.append(input(f\"Cuales es el ramo {i}\"))\n",
    "                    elif unica== \"R\" or \"r\":\n",
    "                        #sacar los ramos disponibles en el df\n",
    "                        pass\n",
    "                    MA=int(input(\"Cual es el monto afianzado?\"))\n",
    "                    print(\"los datos deben de estar en formato csv para poder ser cargados correctamente\")\n",
    "                    año_inicial= int(input(\"Cual es el primer año para el cual desea cargar los datos?\"))\n",
    "                    año_final= int(input(\"Hasta que año desea que incluyan sus calculos\"))\n",
    "                    año_final_datos= int(input(\"Cual es el ultimo año para el cual desea cargar los datos?\"))\n",
    "                    diferencia = año_final-año_final_datos\n",
    "                    if diferencia != 0:\n",
    "                        estimar= input(f\"Desea estimar datos para los {diferencia} años faltantes?(S/N)\").upper()\n",
    "                        if estimar == \"S\":\n",
    "                            años_datos = año_final_datos-año_inicial\n",
    "                            archivos=[]\n",
    "                            años = año_final_datos-año_inicial\n",
    "                            metodo_de_estimación= input(\"Mediante que metodo desea estimar los datos, estandar(E), Incremento lineal(L)o Incremento algebracico(A) ?\").upper() \n",
    "                            for año in range(años+1):\n",
    "                                i=0\n",
    "                                archivos.append(input(f\"Introdusca la ruta del archivo correspondiente al año {año_inicial +i}\"))\n",
    "                                i+=1\n",
    "                            for archivo in archivos:\n",
    "                                datos_año = pd.read_csv(archivo, encoding=\"iso-8859-1\")\n",
    "                            #Crear df maetro extrallendo datos de los archivos e incluyendo solo los ramos relevantes\n",
    "                            if metodo_de_estimación ==\"E\":\n",
    "                                for año in range(diferencia+1):\n",
    "                                    #Sacar media de los estimadores de los ramos del df\n",
    "                                    #Sacar desviacion estandar\n",
    "                                    #meter la media mas dos desviaciones\n",
    "                                    pass\n",
    "                                pass\n",
    "                            elif metodo_de_estimación == \"I\":\n",
    "                                incremento= input(\"Desea conservar la tendencia del incremento en los datos(C) o introducir un incremento(I)?\").upper()\n",
    "                                if incremento ==\"C\":\n",
    "                                    for año in range(diferencia+1):\n",
    "                                        #calcular incremento de los datos y replicarlo\n",
    "                                        pass\n",
    "                                pass\n",
    "                            elif metodo_de_estimación == \"A\":\n",
    "                                incremento= int(input(\"que porcentaje desea que incrementos los datos anualmente?\"))\n",
    "                                porcentaje = incremento / 100\n",
    "                                #meter los datos estimados en el df\n",
    "                                pass\n",
    "                        elif estimar == \"N\":\n",
    "                            años = año_final_datos-año_inicial\n",
    "                            archivos=[]\n",
    "                            for año in range(años+1):\n",
    "                                i=0\n",
    "                                archivos.append(input(f\"Introdusca la ruta del archivo correspondiente al año {año_inicial +i}\"))\n",
    "                                i+=1\n",
    "                            #corregir como meter los archivos\n",
    "                            for archivo in archivos:\n",
    "                                datos_año = pd.read_csv(archivo, encoding=\"iso-8859-1\")\n",
    "                    else:\n",
    "                        pass\n",
    "                    \n",
    "                        pass\n",
    "                elif datos_nuevos == \"A\":\n",
    "                    años=[2008,2009,2010,2011,2012,2013,2014]\n",
    "                    estimar_actuales=input(\"Se tienen datos del 2008 al 2014, desea estimar los datos restantes?(S/N)\").upper()\n",
    "                    if estimar_actuales == \"S\":\n",
    "                        metodo_estimacon = input(\"Mediante que metodo desea estimar los datos, estandar(E), Incremento lineal(L)o Incremento algebracico(A) ?\").upper()\n",
    "                        pass\n",
    "                    elif estimar_actuales == \"N\":\n",
    "                        for año in años:\n",
    "                            datos_año = pd.read_csv(f\"Datos _fianzas_{año}.csv\", encoding=\"iso-8859-1\")\n",
    "                elif datos_nuevos == \"I\":\n",
    "                    print(\"se cuentan con datos de los años 2008 al 2014\")\n",
    "                    datos_2008 = pd.read_csv(\"Datos _fianzas_2008.csv\", encoding=\"iso-8859-1\")\n",
    "                    print(\"los datos cargados tienen esta forma\")\n",
    "                    datos_2008.head()\n",
    "                    datos_nuevos=0\n",
    "                else:\n",
    "                    datos_nuevos =0\n",
    "                    print(\"Selección no reconocida, por favor ingrese N para trabajar con nuevos datos, A para trabajar con los datos actuales o I para obtener información sobre los datos actuales\")\n",
    "        \n",
    "        elif x == \"C\" :\n",
    "            if tipo_usuario == \"S\":\n",
    "                datos_servicio=input(\"Desea usar los datos actuales(A) o cargar nuevos(N)?\")\n",
    "                #Meter cargador de nuevos datos\n",
    "            unica= input(\"Su poliza es para un solo ramo(S) o un podructo mixto(M)\").upper()\n",
    "            ramos=[]\n",
    "            if unica == \"S\":\n",
    "                ramos.append(input(\"para que ramo es su poliza? (ver opciones disponibles con R)\"))\n",
    "            elif unica ==\"M\":\n",
    "                i=0\n",
    "                n_ramos= int(input(\"Cuantos ramos tiene su poliza?\"))\n",
    "                for ramo in range(n_ramos +1):\n",
    "                    i+=1\n",
    "                    ramos.append(input(f\"Cuales es el ramo {i}\"))\n",
    "            elif unica== \"R\" or \"r\":\n",
    "                #sacar los ramos disponibles en el df\n",
    "                pass\n",
    "            MA=int(input(\"Cual es el monto afianzado?\"))\n",
    "            #Cargar indice o indices\n",
    "            if tipo_usuario ==\"U\":\n",
    "                prima_tarifa=calculos(ind,MA)\n",
    "                guardar =input(\"Desea guardar el monto en un documento(S/N)?\").upper()\n",
    "                if guardar == \"S\":\n",
    "                    #Crear documento y meter la prima de tarifa\n",
    "                    print(f\"Su prima por un monto asegurado de ${MA} es de {prima_tarifa}, esto representa un {prima_tarifa/MA}% \")\n",
    "        else:\n",
    "            x=0 ## Meter un interruptor para este while\n",
    "            tipo_usuario=0\n",
    "            intentos+=1\n",
    "            print(\"Selección no reconocida, por favor ingrese N para nota tecnica o C para realizar los calculos\")\n",
    "    return pass #incluir que nos va a regresar la función"
   ]
  },
  {
   "cell_type": "code",
   "execution_count": null,
   "metadata": {},
   "outputs": [
    {
     "name": "stdout",
     "output_type": "stream",
     "text": [
      "Usuario final(U) o prestador de servicio(S)?s\n",
      "Desea realizar una Nota tecnica(N) o solo obtener los calculos de la misma(C)?r\n",
      "Selección no reconocida, por favor ingrese N para nota tecnica o C para realizar los calculos\n",
      "Usuario final(U) o prestador de servicio(S)?s\n",
      "Desea realizar una Nota tecnica(N) o solo obtener los calculos de la misma(C)?t\n",
      "Selección no reconocida, por favor ingrese N para nota tecnica o C para realizar los calculos\n",
      "Usuario final(U) o prestador de servicio(S)?s\n",
      "Desea realizar una Nota tecnica(N) o solo obtener los calculos de la misma(C)?t\n",
      "Selección no reconocida, por favor ingrese N para nota tecnica o C para realizar los calculos\n",
      "Usuario final(U) o prestador de servicio(S)?s\n",
      "Desea realizar una Nota tecnica(N) o solo obtener los calculos de la misma(C)?t\n",
      "Selección no reconocida, por favor ingrese N para nota tecnica o C para realizar los calculos\n",
      "Usuario final(U) o prestador de servicio(S)?s\n",
      "Desea realizar una Nota tecnica(N) o solo obtener los calculos de la misma(C)?t\n",
      "Selección no reconocida, por favor ingrese N para nota tecnica o C para realizar los calculos\n",
      "Usuario final(U) o prestador de servicio(S)?s\n",
      "Desea realizar una Nota tecnica(N) o solo obtener los calculos de la misma(C)?t\n",
      "Selección no reconocida, por favor ingrese N para nota tecnica o C para realizar los calculos\n",
      "Usuario final(U) o prestador de servicio(S)?t\n",
      "Selección no reconocida\n",
      "Usuario final(U) o prestador de servicio(S)?t\n",
      "Selección no reconocida\n",
      "Usuario final(U) o prestador de servicio(S)?t\n",
      "Selección no reconocida\n",
      "Usuario final(U) o prestador de servicio(S)?t\n",
      "Selección no reconocida\n",
      "Usuario final(U) o prestador de servicio(S)?t\n",
      "Selección no reconocida\n",
      "Usuario final(U) o prestador de servicio(S)?t\n",
      "Selección no reconocida\n",
      "Usuario final(U) o prestador de servicio(S)?t\n",
      "Selección no reconocida\n",
      "Usuario final(U) o prestador de servicio(S)?t\n",
      "Selección no reconocida\n",
      "Usuario final(U) o prestador de servicio(S)?t\n",
      "Selección no reconocida\n",
      "Usuario final(U) o prestador de servicio(S)?t\n",
      "Selección no reconocida\n",
      "Usuario final(U) o prestador de servicio(S)?t\n",
      "Selección no reconocida\n",
      "Usuario final(U) o prestador de servicio(S)?t\n",
      "Selección no reconocida\n",
      "Usuario final(U) o prestador de servicio(S)?\n",
      "Selección no reconocida\n",
      "Usuario final(U) o prestador de servicio(S)?t\n",
      "Selección no reconocida\n",
      "Usuario final(U) o prestador de servicio(S)?tt\n",
      "Selección no reconocida\n",
      "Usuario final(U) o prestador de servicio(S)?t\n",
      "Selección no reconocida\n",
      "Usuario final(U) o prestador de servicio(S)?\n",
      "Selección no reconocida\n",
      "Usuario final(U) o prestador de servicio(S)?t\n",
      "Selección no reconocida\n",
      "Usuario final(U) o prestador de servicio(S)?t\n",
      "Selección no reconocida\n",
      "Usuario final(U) o prestador de servicio(S)?t\n",
      "Selección no reconocida\n",
      "Usuario final(U) o prestador de servicio(S)?t\n",
      "Selección no reconocida\n",
      "Usuario final(U) o prestador de servicio(S)?t\n",
      "Selección no reconocida\n"
     ]
    }
   ],
   "source": [
    "Nota_tec()"
   ]
  },
  {
   "cell_type": "code",
   "execution_count": 28,
   "metadata": {},
   "outputs": [],
   "source": [
    "def calculos(Ind,Ma,gadmi =.1, gadmi_min= 1000 ,gadq=.15, gadq_min=1500, mutil=.1,mutil_min=1000):\n",
    "    Prima_Base = Ind*Ma\n",
    "    m_gadmin=0\n",
    "    m_gadq =0\n",
    "    m_uti=0\n",
    "    #Checar porque no esta tomando los montos minimos\n",
    "    if gadmi*Prima_Base > gadmi_min:\n",
    "        m_gadmin= gadmi*Prima_Base\n",
    "    else:\n",
    "        m_gadmi = gadmi_min\n",
    "    if m_gadq*Prima_Base > gadq_min:\n",
    "        m_gadq= m_gadq*Prima_Base\n",
    "    else:\n",
    "        m_gadq=gadq_min\n",
    "    if m_uti*Prima_Base > mutil_min:\n",
    "        m_uti=mutil_min\n",
    "    Prima_Tarifa = Prima_Base + m_gadmin + m_gadq + m_uti\n",
    "    return Prima_Tarifa"
   ]
  },
  {
   "cell_type": "code",
   "execution_count": 31,
   "metadata": {},
   "outputs": [
    {
     "name": "stdout",
     "output_type": "stream",
     "text": [
      "m_gadmin 0\n",
      "m_gadq 1500\n",
      "m_uti 0\n"
     ]
    },
    {
     "data": {
      "text/plain": [
       "11500.0"
      ]
     },
     "execution_count": 31,
     "metadata": {},
     "output_type": "execute_result"
    }
   ],
   "source": [
    "calculos(.01,1000000)"
   ]
  },
  {
   "cell_type": "code",
   "execution_count": 6,
   "metadata": {},
   "outputs": [],
   "source": [
    "datos_2008 = pd.read_csv(\"Datos _fianzas_2008.csv\", encoding=\"iso-8859-1\")"
   ]
  },
  {
   "cell_type": "code",
   "execution_count": 5,
   "metadata": {},
   "outputs": [
    {
     "data": {
      "text/html": [
       "<div>\n",
       "<style scoped>\n",
       "    .dataframe tbody tr th:only-of-type {\n",
       "        vertical-align: middle;\n",
       "    }\n",
       "\n",
       "    .dataframe tbody tr th {\n",
       "        vertical-align: top;\n",
       "    }\n",
       "\n",
       "    .dataframe thead th {\n",
       "        text-align: right;\n",
       "    }\n",
       "</style>\n",
       "<table border=\"1\" class=\"dataframe\">\n",
       "  <thead>\n",
       "    <tr style=\"text-align: right;\">\n",
       "      <th></th>\n",
       "      <th>Ramos y Subramos</th>\n",
       "      <th>Indice de Reclamaciones pagadas esperadas (w)</th>\n",
       "      <th>Indice de severidad promedio</th>\n",
       "      <th>Monto de reclamaciones pagadas esperadas</th>\n",
       "    </tr>\n",
       "  </thead>\n",
       "  <tbody>\n",
       "    <tr>\n",
       "      <th>0</th>\n",
       "      <td>Fidelidad</td>\n",
       "      <td>0.57%</td>\n",
       "      <td>0.20%</td>\n",
       "      <td>$5,614,585.00</td>\n",
       "    </tr>\n",
       "    <tr>\n",
       "      <th>1</th>\n",
       "      <td>Individuales</td>\n",
       "      <td>0.73%</td>\n",
       "      <td>0.25%</td>\n",
       "      <td>$4,823,022.00</td>\n",
       "    </tr>\n",
       "    <tr>\n",
       "      <th>2</th>\n",
       "      <td>Colectivo</td>\n",
       "      <td>0.28%</td>\n",
       "      <td>0.09%</td>\n",
       "      <td>$921,247.00</td>\n",
       "    </tr>\n",
       "    <tr>\n",
       "      <th>3</th>\n",
       "      <td>Judiciales</td>\n",
       "      <td>0.64%</td>\n",
       "      <td>0.45%</td>\n",
       "      <td>$4,674,585.00</td>\n",
       "    </tr>\n",
       "    <tr>\n",
       "      <th>4</th>\n",
       "      <td>Penales</td>\n",
       "      <td>12.31%</td>\n",
       "      <td>5.81%</td>\n",
       "      <td>$10,824,022.00</td>\n",
       "    </tr>\n",
       "  </tbody>\n",
       "</table>\n",
       "</div>"
      ],
      "text/plain": [
       "  Ramos y Subramos Indice de Reclamaciones pagadas esperadas (w)  \\\n",
       "0        Fidelidad                                         0.57%   \n",
       "1     Individuales                                         0.73%   \n",
       "2        Colectivo                                         0.28%   \n",
       "3       Judiciales                                         0.64%   \n",
       "4          Penales                                        12.31%   \n",
       "\n",
       "  Indice de severidad promedio Monto de reclamaciones pagadas esperadas  \n",
       "0                        0.20%                            $5,614,585.00  \n",
       "1                        0.25%                            $4,823,022.00  \n",
       "2                        0.09%                              $921,247.00  \n",
       "3                        0.45%                            $4,674,585.00  \n",
       "4                        5.81%                           $10,824,022.00  "
      ]
     },
     "execution_count": 5,
     "metadata": {},
     "output_type": "execute_result"
    }
   ],
   "source": [
    "df.head()"
   ]
  },
  {
   "cell_type": "code",
   "execution_count": null,
   "metadata": {},
   "outputs": [],
   "source": [
    "Indice_de_reclamaciones =0\n",
    "MAS= 1\n",
    "Prima_Base = Indice_de_reclamaciones * MAS\n",
    "G_Admin = gadmin if (gadmin*Prima_Base) > gadmin_min else gadmin_min\n",
    "gadmin= .1\n",
    "gadmin_min = 1000\n",
    "G_Adq = gadq if (gadq*Prima_Base) > gadq_min else gadq_min\n",
    "gadq=.15\n",
    "gadq_min =1500\n",
    "M_util =mutil if (mutil*Prima_Base)> mutil_min else mutil_min\n",
    "mutil=.1\n",
    "mutil_min =1000\n",
    "Prima_Tarifa = if G_Admin == gadmin and G_Adq == gadq and  M_util == mutil Prima_Base/(1-G_Admin-G_Adq-M_util) else: Prima_Base+G_Admin+G_Adq+M_util\n",
    "\n",
    "\n"
   ]
  },
  {
   "cell_type": "code",
   "execution_count": 45,
   "metadata": {
    "scrolled": true
   },
   "outputs": [
    {
     "name": "stdout",
     "output_type": "stream",
     "text": [
      "['Ramos y Subramos', 'Indice de Reclamaciones pagadas esperadas (w)', 'Indice de severidad promedio', 'Monto de reclamaciones pagadas esperadas']\n",
      "['Fidelidad', '0.57%', '0.20%', '$5,614,585.00']\n",
      "['Individuales', '0.73%', '0.25%', '$4,823,022.00']\n",
      "['Colectivo', '0.28%', '0.09%', '$921,247.00']\n",
      "['Judiciales', '0.64%', '0.45%', '$4,674,585.00']\n",
      "['Penales', '12.31%', '5.81%', '$10,824,022.00']\n",
      "['No Penales', '0.10%', '0.06%', '$602,875.00']\n",
      "['Que amparen a los conductores de vehículos automotores', '-', '-', ' - ']\n",
      "['Administrativas', '0.06%', '0.04%', '$38,485,408.00']\n",
      "['De Obra', '0.05%', '0.03%', '$19,415,896.00']\n",
      "['De proveeduria', '0.09%', '0.04%', '$17,979,181.00']\n",
      "['Fiscales', '0.31%', '0.18%', '$6,628.16']\n",
      "['De arrendamiento', '0.25%', '0.06%', '$842,057.00']\n",
      "['Otras Fianzas Administrativas', '0.05%', '0.02%', '$848,547.00']\n",
      "['Crédito', '1.07%', '0.40%', '$8,133,415.00']\n",
      "['De suministro', '1.07%', '0.37%', '$7,780,544.00']\n",
      "['De compraventa', '3.55%', '1.68%', '$1,019,306.00']\n",
      "['Financieras', '-', '-', ' - ']\n",
      "['Otras Fianzas de Credito', '-', '-', ' - ']\n"
     ]
    }
   ],
   "source": [
    "with open(\"Datos _fianzas_2008.csv\", newline='') as f:\n",
    "    reader = csv.reader(f)\n",
    "\n",
    "    for row in reader:\n",
    "        print(row)"
   ]
  },
  {
   "cell_type": "code",
   "execution_count": 103,
   "metadata": {},
   "outputs": [
    {
     "ename": "KeyError",
     "evalue": "'Fidelidad'",
     "output_type": "error",
     "traceback": [
      "\u001b[1;31m---------------------------------------------------------------------------\u001b[0m",
      "\u001b[1;31mKeyError\u001b[0m                                  Traceback (most recent call last)",
      "\u001b[1;32m<ipython-input-103-cbff0aaa0a7a>\u001b[0m in \u001b[0;36m<module>\u001b[1;34m()\u001b[0m\n\u001b[0;32m     13\u001b[0m     \u001b[1;32mfor\u001b[0m \u001b[0mi\u001b[0m \u001b[1;32min\u001b[0m \u001b[0mRamos\u001b[0m\u001b[1;33m:\u001b[0m\u001b[1;33m\u001b[0m\u001b[0m\n\u001b[0;32m     14\u001b[0m         \u001b[1;32mfor\u001b[0m \u001b[0mcol\u001b[0m \u001b[1;32min\u001b[0m \u001b[0mrange\u001b[0m\u001b[1;33m(\u001b[0m\u001b[0mlen\u001b[0m\u001b[1;33m(\u001b[0m\u001b[0mColumnas\u001b[0m\u001b[1;33m)\u001b[0m\u001b[1;33m)\u001b[0m\u001b[1;33m:\u001b[0m\u001b[1;33m\u001b[0m\u001b[0m\n\u001b[1;32m---> 15\u001b[1;33m             \u001b[0mdatos\u001b[0m\u001b[1;33m[\u001b[0m\u001b[0mi\u001b[0m\u001b[1;33m]\u001b[0m\u001b[1;33m[\u001b[0m\u001b[0mColumnas\u001b[0m\u001b[1;33m[\u001b[0m\u001b[0mcol\u001b[0m\u001b[1;33m]\u001b[0m\u001b[1;33m]\u001b[0m\u001b[1;33m=\u001b[0m\u001b[1;33m{\u001b[0m\u001b[1;33m}\u001b[0m\u001b[1;33m\u001b[0m\u001b[0m\n\u001b[0m\u001b[0;32m     16\u001b[0m \u001b[1;33m\u001b[0m\u001b[0m\n\u001b[0;32m     17\u001b[0m     \u001b[0mprint\u001b[0m\u001b[1;33m(\u001b[0m\u001b[0mdatos\u001b[0m\u001b[1;33m)\u001b[0m\u001b[1;33m\u001b[0m\u001b[0m\n",
      "\u001b[1;31mKeyError\u001b[0m: 'Fidelidad'"
     ]
    }
   ],
   "source": [
    "with open(\"Datos _fianzas_2008.csv\", newline='') as f:\n",
    "    reader = csv.reader(f)\n",
    "    n_row=0\n",
    "    datos={}\n",
    "    Ramos=[]\n",
    "    Columnas =[\"Indice de Reclamaciones pagadas esperadas (w)\", \"Indice de severidad promedio\", \"Monto de reclamaciones pagadas esperadas\"]\n",
    "    for row in reader: \n",
    "        Ramos.append(row[0])\n",
    "    Ramos.pop(0)\n",
    "    #for row in reader:\n",
    "        #for i in row:\n",
    "            #Columnas.append(row[i])\n",
    "    for i in Ramos:\n",
    "        datos[i]={}\n",
    "    "
   ]
  },
  {
   "cell_type": "code",
   "execution_count": 97,
   "metadata": {},
   "outputs": [
    {
     "data": {
      "text/plain": [
       "[]"
      ]
     },
     "execution_count": 97,
     "metadata": {},
     "output_type": "execute_result"
    }
   ],
   "source": [
    "Columnas\n",
    "\n"
   ]
  },
  {
   "cell_type": "code",
   "execution_count": 6,
   "metadata": {},
   "outputs": [
    {
     "name": "stdout",
     "output_type": "stream",
     "text": [
      "meta numero1\n",
      "meta numero2\n",
      "meta numero3\n",
      "meta numero4\n",
      "meta numero5\n",
      "meta numero6\n",
      "meta numero7\n",
      "meta numero8\n",
      "meta numero8\n",
      "meta numero8\n"
     ]
    },
    {
     "data": {
      "text/plain": [
       "['1', '2', '3', '4', '5', '6', '7', '8', '8', '8']"
      ]
     },
     "execution_count": 6,
     "metadata": {},
     "output_type": "execute_result"
    }
   ],
   "source": [
    "lista=[]\n",
    "for año in range(10):\n",
    "    lista.append(input(\"meta numero\"))\n",
    "lista"
   ]
  }
 ],
 "metadata": {
  "kernelspec": {
   "display_name": "Python 3",
   "language": "python",
   "name": "python3"
  },
  "language_info": {
   "codemirror_mode": {
    "name": "ipython",
    "version": 3
   },
   "file_extension": ".py",
   "mimetype": "text/x-python",
   "name": "python",
   "nbconvert_exporter": "python",
   "pygments_lexer": "ipython3",
   "version": "3.6.5"
  }
 },
 "nbformat": 4,
 "nbformat_minor": 2
}
